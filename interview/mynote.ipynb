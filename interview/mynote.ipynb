{
 "cells": [
  {
   "cell_type": "code",
   "execution_count": null,
   "source": [
    "# 面试问题记录\r\n",
    "\r\n",
    "## 1. Python2 和 Python3的区别。\r\n",
    "\r\n",
    "- Python 3.x print函数代替了print语句\r\n",
    "- Python 3.x 默认使用 UTF-8 编码   Python 2.x 默认采用的 ASCII 编码\r\n",
    "-  Python 2.x 中，使用运算符 / 进行除法运算的方式和 Java、C 语言类似，整数相除的结果仍是一个整数，浮点数除法会保留小数点部分，Python 3.x 中使用 / 运算符，整数之间做除法运算，结果也会是浮点数。\r\n",
    "- 在 Python 2.x 版本中，所有类型的对象都是直接被抛出的，但是在 Python 3.x 版本中，只有继承 BaseException 的对象才可以被抛出。\r\n",
    "- Python 2.x 中的不等于运算符有 2 种写法，分别为 != 和 <>，但在 Python 3.x 中去掉了 <>，只有 ！= 这一种写法\r\n",
    "- Python 3.x 去除了 long 类型，现在只有一种整形 int，但它的行为就像是 Python 2.x 版本中的 long。\r\n",
    "- Python3中不再使用xrange方法，只有range方法\r\n",
    "\r\n",
    "## 2. MySQL存储引擎InnoDB与Myisam\r\n",
    "### MyISAM：\r\n",
    "优点：查询数据相对较快，适合大量的select，可以全文索引。\r\n",
    "\r\n",
    "缺点：不支持事务，不支持外键，并发量较小，不适合大量update\r\n",
    "\r\n",
    "### InnoDB：\r\n",
    "优点：支持事务，支持外键，并发量较大，适合大量update\r\n",
    "\r\n",
    "缺点：查询数据相对较快，不适合大量的select\r\n",
    "基本的差别为：MyISAM类型不支持事务处理等高级处理，而InnoDB类型支持。\r\n",
    "\r\n",
    "MyISAM类型的表强调的是性能，其执行数度比InnoDB类型更快，但是不提供事务支持，而InnoDB提供事务支持已经外部键等高级数据库功能。"
   ],
   "outputs": [],
   "metadata": {}
  },
  {
   "cell_type": "code",
   "execution_count": null,
   "source": [],
   "outputs": [],
   "metadata": {}
  }
 ],
 "metadata": {
  "orig_nbformat": 4,
  "language_info": {
   "name": "python",
   "version": "3.8.0",
   "mimetype": "text/x-python",
   "codemirror_mode": {
    "name": "ipython",
    "version": 3
   },
   "pygments_lexer": "ipython3",
   "nbconvert_exporter": "python",
   "file_extension": ".py"
  },
  "kernelspec": {
   "name": "python3",
   "display_name": "Python 3.8.0 64-bit ('python3_learning': virtualenv)"
  },
  "interpreter": {
   "hash": "4f130e8930c592659046c3ca6e7cc7e6eeed5544b3a4392bd920b723a12c5591"
  }
 },
 "nbformat": 4,
 "nbformat_minor": 2
}