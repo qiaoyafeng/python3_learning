{
    "cells": [
        {
            "cell_type": "markdown",
            "source": [
                "# 单元测试"
            ],
            "metadata": {}
        },
        {
            "cell_type": "markdown",
            "source": [
                "“测试驱动开发”（TDD：Test-Driven Development）。这种以测试为驱动的开发模式最大的好处就是确保一个程序模块的行为符合我们设计的测试用例。在将来修改的时候，可以极大程度地保证该模块行为仍然是正确的。"
            ],
            "metadata": {}
        },
        {
            "cell_type": "code",
            "execution_count": 5,
            "source": [
                "import unittest\r\n",
                "\r\n",
                "class Dict(dict):\r\n",
                "\r\n",
                "    def __init__(self, **kwargs):\r\n",
                "        super().__init__(**kwargs)\r\n",
                "    def __getattr__(self, key):\r\n",
                "        try:\r\n",
                "            return self[key]\r\n",
                "        except KeyError:\r\n",
                "            raise AttributeError(r\"'Dict' object has no attribute '%s'\" % key)\r\n",
                "    def __setattr__(self, name, value):\r\n",
                "        return super().__setattr__(name, value)\r\n",
                "\r\n",
                "class TestDict(unittest.TestCase):\r\n",
                "\r\n",
                "    def setUp(self):\r\n",
                "        print('setUp')\r\n",
                "    \r\n",
                "    def tearDown(self):\r\n",
                "        print('tearDown')\r\n",
                "\r\n",
                "    def test_init(self):\r\n",
                "        d = Dict(a=1, b='test')\r\n",
                "        self.assertEqual(d.a, 1)\r\n",
                "        self.assertEqual(d.b, 'test')\r\n",
                "        self.assertTrue(isinstance(d, dict))\r\n",
                "    def test_key(self):\r\n",
                "        d = Dict()\r\n",
                "        d['key'] = 'value'\r\n",
                "        self.assertEqual(d.key, 'value')\r\n",
                "\r\n",
                "if __name__ == '__main__':\r\n",
                "    unittest.main\r\n",
                "\r\n"
            ],
            "outputs": [],
            "metadata": {}
        },
        {
            "cell_type": "markdown",
            "source": [
                "## 小结\r\n",
                "\r\n",
                "\r\n",
                "单元测试可以有效地测试某个程序模块的行为，是未来重构代码的信心保证。\r\n",
                "\r\n",
                "单元测试的测试用例要覆盖常用的输入组合、边界条件和异常。\r\n",
                "\r\n",
                "单元测试代码要非常简单，如果测试代码太复杂，那么测试代码本身就可能有bug。\r\n",
                "\r\n",
                "单元测试通过了并不意味着程序就没有bug了，但是不通过程序肯定有bug。\r\n"
            ],
            "metadata": {}
        }
    ],
    "metadata": {
        "orig_nbformat": 4,
        "language_info": {
            "name": "python",
            "version": "3.8.0",
            "mimetype": "text/x-python",
            "codemirror_mode": {
                "name": "ipython",
                "version": 3
            },
            "pygments_lexer": "ipython3",
            "nbconvert_exporter": "python",
            "file_extension": ".py"
        },
        "kernelspec": {
            "name": "python3",
            "display_name": "Python 3.8.0 64-bit ('python3_learning': virtualenv)"
        },
        "interpreter": {
            "hash": "4f130e8930c592659046c3ca6e7cc7e6eeed5544b3a4392bd920b723a12c5591"
        }
    },
    "nbformat": 4,
    "nbformat_minor": 2
}