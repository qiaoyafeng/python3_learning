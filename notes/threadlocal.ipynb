{
 "cells": [
  {
   "cell_type": "markdown",
   "source": [
    "# ThreadLocal\r\n",
    "\r\n",
    "在多线程环境下，每个线程都有自己的数据。一个线程使用自己的局部变量比使用全局变量好，因为局部变量只有线程自己能看见，不会影响其他线程，而全局变量的修改必须加锁。\r\n",
    "\r\n",
    "但是局部变量也有问题，就是在函数调用的时候，传递起来很麻烦："
   ],
   "metadata": {}
  },
  {
   "cell_type": "code",
   "execution_count": null,
   "source": [
    "def process_student(name):\r\n",
    "    std = Student(name)\r\n",
    "    # std 是局部变量，但是每个函数都要用到它，因此必须传递下去\r\n",
    "    do_task_1(std)\r\n",
    "    do_task_2(std)\r\n",
    "\r\n",
    "def do_task_1(std):\r\n",
    "    do_subtask_1(std)\r\n",
    "    do_subtask_2(std)\r\n",
    "\r\n",
    "def do_task_2(std):\r\n",
    "    do_subtask_1(std)\r\n",
    "    do_subtask_2(std)"
   ],
   "outputs": [],
   "metadata": {}
  },
  {
   "cell_type": "markdown",
   "source": [
    "每个函数一层一层调用都这么传参数那还得了？用全局变量？也不行，因为每个线程处理不同的Student对象，不能共享。\r\n",
    "\r\n",
    "如果用一个全局dict存放所有的Student对象，然后以thread自身作为key获得线程对应的Student对象如何？"
   ],
   "metadata": {}
  },
  {
   "cell_type": "code",
   "execution_count": null,
   "source": [
    "global_dict = {}\r\n",
    "\r\n",
    "def std_thread(name):\r\n",
    "    std = Student(name)\r\n",
    "    # 把std放到全局变量global_dict中：\r\n",
    "    global_dict[threading.current_thread()] = std\r\n",
    "    do_task_1()\r\n",
    "    do_task_2()\r\n",
    "\r\n",
    "def do_task_1():\r\n",
    "    # 不传入std，而是根据当前线程查找：\r\n",
    "    std = global_dict[threading.current_thread()]\r\n",
    "    ...\r\n",
    "\r\n",
    "def do_task_2():\r\n",
    "    # 任何函数都可以查找出当前线程的std变量：\r\n",
    "    std = global_dict[threading.current_thread()]"
   ],
   "outputs": [],
   "metadata": {}
  },
  {
   "cell_type": "markdown",
   "source": [
    "这种方式理论上是可行的，它最大的优点是消除了std对象在每层函数中的传递问题，但是，每个函数获取std的代码有点丑。\r\n",
    "\r\n",
    "有没有更简单的方式？\r\n",
    "\r\n",
    "ThreadLocal应运而生，不用查找dict，ThreadLocal帮你自动做这件事："
   ],
   "metadata": {}
  },
  {
   "cell_type": "code",
   "execution_count": 6,
   "source": [
    "import threading\r\n",
    "\r\n",
    "# 创建全局对象 ThreadLocal \r\n",
    "local_school = threading.local()\r\n",
    "\r\n",
    "def process_student():\r\n",
    "    std = local_school.student\r\n",
    "    print('Hello %s  in %s thread.' %(std, threading.current_thread().name))\r\n",
    "\r\n",
    "def process_thread(name):\r\n",
    "    local_school.student = name\r\n",
    "    process_student()\r\n",
    "\r\n",
    "t1 = threading.Thread(target=process_thread, args=('Qiao',))\r\n",
    "t2 = threading.Thread(target=process_thread, args=('Yafeng',))\r\n",
    "t1.start()\r\n",
    "t2.start()\r\n",
    "t1.join()\r\n",
    "t2.join()\r\n"
   ],
   "outputs": [
    {
     "output_type": "stream",
     "name": "stdout",
     "text": [
      "Hello Qiao  in Thread-15 thread.\n",
      "Hello Yafeng  in Thread-16 thread.\n"
     ]
    }
   ],
   "metadata": {}
  },
  {
   "cell_type": "markdown",
   "source": [
    "全局变量local_school就是一个ThreadLocal对象，每个Thread对它都可以读写student属性，但互不影响。你可以把local_school看成全局变量，但每个属性如local_school.student都是线程的局部变量，可以任意读写而互不干扰，也不用管理锁的问题，ThreadLocal内部会处理。\r\n",
    "\r\n",
    "可以理解为全局变量local_school是一个dict，不但可以用local_school.student，还可以绑定其他变量，如local_school.teacher等等。\r\n",
    "\r\n",
    "ThreadLocal最常用的地方就是为每个线程绑定一个数据库连接，HTTP请求，用户身份信息等，这样一个线程的所有调用到的处理函数都可以非常方便地访问这些资源。\r\n",
    "\r\n",
    "## 小结\r\n",
    "一个ThreadLocal变量虽然是全局变量，但每个线程都只能读写自己线程的独立副本，互不干扰。ThreadLocal解决了参数在一个线程中各个函数之间互相传递的问题"
   ],
   "metadata": {}
  }
 ],
 "metadata": {
  "orig_nbformat": 4,
  "language_info": {
   "name": "python",
   "version": "3.8.0",
   "mimetype": "text/x-python",
   "codemirror_mode": {
    "name": "ipython",
    "version": 3
   },
   "pygments_lexer": "ipython3",
   "nbconvert_exporter": "python",
   "file_extension": ".py"
  },
  "kernelspec": {
   "name": "python3",
   "display_name": "Python 3.8.0 64-bit ('python3_learning': virtualenv)"
  },
  "interpreter": {
   "hash": "4f130e8930c592659046c3ca6e7cc7e6eeed5544b3a4392bd920b723a12c5591"
  }
 },
 "nbformat": 4,
 "nbformat_minor": 2
}