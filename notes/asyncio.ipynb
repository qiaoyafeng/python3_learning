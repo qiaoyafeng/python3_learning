{
 "cells": [
  {
   "cell_type": "markdown",
   "source": [
    "# 异步IO\r\n",
    "\r\n",
    "多线程和多进程的模型虽然解决了并发问题，但是系统不能无上限地增加线程。由于系统切换线程的开销也很大，所以，一旦线程数量过多，CPU的时间就花在线程切换上了，真正运行代码的时间就少了，结果导致性能严重下降。\r\n",
    "\r\n",
    "由于我们要解决的问题是CPU高速执行能力和IO设备的龟速严重不匹配，多线程和多进程只是解决这一问题的一种方法。\r\n",
    "\r\n",
    "另一种解决IO问题的方法是异步IO。当代码需要执行一个耗时的IO操作时，它只发出IO指令，并不等待IO结果，然后就去执行其他代码了。一段时间后，当IO返回结果时，再通知CPU进行处理。\r\n",
    "\r\n",
    "可以想象如果按普通顺序写出的代码实际上是没法完成异步IO的："
   ],
   "metadata": {}
  },
  {
   "cell_type": "code",
   "execution_count": null,
   "source": [
    "do_some_code()\r\n",
    "f = open('/path/to/file', 'r')\r\n",
    "r = f.read() # <== 线程停在此处等待IO操作结果\r\n",
    "# IO操作完成后线程才能继续执行:\r\n",
    "do_some_code(r)"
   ],
   "outputs": [],
   "metadata": {}
  },
  {
   "cell_type": "markdown",
   "source": [
    "所以，同步IO模型的代码是无法实现异步IO模型的。\r\n",
    "\r\n",
    "异步IO模型需要一个消息循环，在消息循环中，主线程不断地重复“读取消息-处理消息”这一过程："
   ],
   "metadata": {}
  },
  {
   "cell_type": "code",
   "execution_count": null,
   "source": [
    "loop = get_event_loop()\r\n",
    "while True:\r\n",
    "    event = loop.get_event()\r\n",
    "    process_event(event)"
   ],
   "outputs": [],
   "metadata": {}
  },
  {
   "cell_type": "markdown",
   "source": [
    "消息模型其实早在应用在桌面应用程序中了。一个GUI程序的主线程就负责不停地读取消息并处理消息。所有的键盘、鼠标等消息都被发送到GUI程序的消息队列中，然后由GUI程序的主线程处理。\r\n",
    "\r\n",
    "由于GUI线程处理键盘、鼠标等消息的速度非常快，所以用户感觉不到延迟。某些时候，GUI线程在一个消息处理的过程中遇到问题导致一次消息处理时间过长，此时，用户会感觉到整个GUI程序停止响应了，敲键盘、点鼠标都没有反应。这种情况说明在消息模型中，处理一个消息必须非常迅速，否则，主线程将无法及时处理消息队列中的其他消息，导致程序看上去停止响应。\r\n",
    "\r\n",
    "消息模型是如何解决同步IO必须等待IO操作这一问题的呢？当遇到IO操作时，代码只负责发出IO请求，不等待IO结果，然后直接结束本轮消息处理，进入下一轮消息处理过程。当IO操作完成后，将收到一条“IO完成”的消息，处理该消息时就可以直接获取IO操作结果。\r\n",
    "\r\n",
    "在“发出IO请求”到收到“IO完成”的这段时间里，同步IO模型下，主线程只能挂起，但异步IO模型下，主线程并没有休息，而是在消息循环中继续处理其他消息。这样，在异步IO模型下，一个线程就可以同时处理多个IO请求，并且没有切换线程的操作。对于大多数IO密集型的应用程序，使用异步IO将大大提升系统的多任务处理能力。"
   ],
   "metadata": {}
  },
  {
   "cell_type": "markdown",
   "source": [
    "## 协程\r\n",
    "\r\n",
    "协程，又称微线程，纤程。英文名Coroutine。\r\n",
    "\r\n",
    "子程序，或者称为函数，在所有语言中都是层级调用，比如A调用B，B在执行过程中又调用了C，C执行完毕返回，B执行完毕返回，最后是A执行完毕。\r\n",
    "\r\n",
    "所以子程序调用是通过栈实现的，一个线程就是执行一个子程序。\r\n",
    "\r\n",
    "子程序调用总是一个入口，一次返回，调用顺序是明确的。而协程的调用和子程序不同。\r\n",
    "\r\n",
    "协程看上去也是子程序，但执行过程中，在子程序内部可中断，然后转而执行别的子程序，在适当的时候再返回来接着执行。\r\n",
    "\r\n",
    "注意，在一个子程序中中断，去执行其他子程序，不是函数调用，有点类似CPU的中断。比如子程序A、B："
   ],
   "metadata": {}
  },
  {
   "cell_type": "code",
   "execution_count": null,
   "source": [
    "def A():\r\n",
    "    print('1')\r\n",
    "    print('2')\r\n",
    "    print('3')\r\n",
    "\r\n",
    "def B():\r\n",
    "    print('x')\r\n",
    "    print('y')\r\n",
    "    print('z')"
   ],
   "outputs": [],
   "metadata": {}
  },
  {
   "cell_type": "markdown",
   "source": [
    "假设由协程执行，在执行A的过程中，可以随时中断，去执行B，B也可能在执行过程中中断再去执行A，结果可能是：\r\n",
    "\r\n",
    "1\r\n",
    "2\r\n",
    "x\r\n",
    "y\r\n",
    "3\r\n",
    "z"
   ],
   "metadata": {}
  },
  {
   "cell_type": "markdown",
   "source": [
    "但是在A中是没有调用B的，所以协程的调用比函数调用理解起来要难一些。\r\n",
    "\r\n",
    "看起来A、B的执行有点像多线程，但协程的特点在于是一个线程执行，那和多线程比，协程有何优势？\r\n",
    "\r\n",
    "最大的优势就是协程极高的执行效率。因为子程序切换不是线程切换，而是由程序自身控制，因此，没有线程切换的开销，和多线程比，线程数量越多，协程的性能优势就越明显。\r\n",
    "\r\n",
    "第二大优势就是不需要多线程的锁机制，因为只有一个线程，也不存在同时写变量冲突，在协程中控制共享资源不加锁，只需要判断状态就好了，所以执行效率比多线程高很多。\r\n",
    "\r\n",
    "因为协程是一个线程执行，那怎么利用多核CPU呢？最简单的方法是多进程+协程，既充分利用多核，又充分发挥协程的高效率，可获得极高的性能。\r\n",
    "\r\n",
    "Python对协程的支持是通过generator实现的。\r\n",
    "\r\n",
    "在generator中，我们不但可以通过for循环来迭代，还可以不断调用next()函数获取由yield语句返回的下一个值。\r\n",
    "\r\n",
    "但是Python的yield不但可以返回一个值，它还可以接收调用者发出的参数。\r\n",
    "\r\n",
    "来看例子：\r\n",
    "\r\n",
    "传统的生产者-消费者模型是一个线程写消息，一个线程取消息，通过锁机制控制队列和等待，但一不小心就可能死锁。\r\n",
    "\r\n",
    "如果改用协程，生产者生产消息后，直接通过yield跳转到消费者开始执行，待消费者执行完毕后，切换回生产者继续生产，效率极高："
   ],
   "metadata": {}
  },
  {
   "cell_type": "code",
   "execution_count": 1,
   "source": [
    "def consumer():\r\n",
    "    r = ''\r\n",
    "    while True:\r\n",
    "        n = yield r\r\n",
    "        if not n:\r\n",
    "            return\r\n",
    "        print('[CONSUMER] Consuming %s...' % n)\r\n",
    "        r = '200 OK'\r\n",
    "\r\n",
    "def produce(c):\r\n",
    "    c.send(None)\r\n",
    "    n = 0\r\n",
    "    while n < 5:\r\n",
    "        n = n + 1\r\n",
    "        print('[PRODUCER] Producing %s...' % n)\r\n",
    "        r = c.send(n)\r\n",
    "        print('[PRODUCER] Consumer return: %s' % r)\r\n",
    "    c.close()\r\n",
    "\r\n",
    "c = consumer()\r\n",
    "produce(c)"
   ],
   "outputs": [
    {
     "output_type": "stream",
     "name": "stdout",
     "text": [
      "[PRODUCER] Producing 1...\n",
      "[CONSUMER] Consuming 1...\n",
      "[PRODUCER] Consumer return: 200 OK\n",
      "[PRODUCER] Producing 2...\n",
      "[CONSUMER] Consuming 2...\n",
      "[PRODUCER] Consumer return: 200 OK\n",
      "[PRODUCER] Producing 3...\n",
      "[CONSUMER] Consuming 3...\n",
      "[PRODUCER] Consumer return: 200 OK\n",
      "[PRODUCER] Producing 4...\n",
      "[CONSUMER] Consuming 4...\n",
      "[PRODUCER] Consumer return: 200 OK\n",
      "[PRODUCER] Producing 5...\n",
      "[CONSUMER] Consuming 5...\n",
      "[PRODUCER] Consumer return: 200 OK\n"
     ]
    }
   ],
   "metadata": {}
  },
  {
   "cell_type": "markdown",
   "source": [
    "注意到consumer函数是一个generator，把一个consumer传入produce后：\r\n",
    "\r\n",
    "1. 首先调用c.send(None)启动生成器；\r\n",
    "\r\n",
    "2. 然后，一旦生产了东西，通过c.send(n)切换到consumer执行；\r\n",
    "\r\n",
    "3. consumer通过yield拿到消息，处理，又通过yield把结果传回；\r\n",
    "\r\n",
    "4. produce拿到consumer处理的结果，继续生产下一条消息；\r\n",
    "\r\n",
    "5. produce决定不生产了，通过c.close()关闭consumer，整个过程结束。\r\n",
    "\r\n",
    "整个流程无锁，由一个线程执行，produce和consumer协作完成任务，所以称为“协程”，而非线程的抢占式多任务。\r\n",
    "\r\n",
    "最后套用Donald Knuth的一句话总结协程的特点：\r\n",
    "\r\n",
    "“子程序就是协程的一种特例。”"
   ],
   "metadata": {}
  },
  {
   "cell_type": "markdown",
   "source": [
    "## asyncio"
   ],
   "metadata": {}
  }
 ],
 "metadata": {
  "orig_nbformat": 4,
  "language_info": {
   "name": "python",
   "version": "3.8.0",
   "mimetype": "text/x-python",
   "codemirror_mode": {
    "name": "ipython",
    "version": 3
   },
   "pygments_lexer": "ipython3",
   "nbconvert_exporter": "python",
   "file_extension": ".py"
  },
  "kernelspec": {
   "name": "python3",
   "display_name": "Python 3.8.0 64-bit ('python3_learning': virtualenv)"
  },
  "interpreter": {
   "hash": "4f130e8930c592659046c3ca6e7cc7e6eeed5544b3a4392bd920b723a12c5591"
  }
 },
 "nbformat": 4,
 "nbformat_minor": 2
}