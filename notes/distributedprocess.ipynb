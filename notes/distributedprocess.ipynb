{
 "cells": [
  {
   "cell_type": "markdown",
   "metadata": {},
   "source": [
    "# 分布式进程 \r\n",
    "\r\n",
    "\r\n",
    "在Thread和Process中，应当优选Process，因为Process更稳定，而且，Process可以分布到多台机器上，而Thread最多只能分布到同一台机器的多个CPU上。\r\n",
    "\r\n",
    "Python的multiprocessing模块不但支持多进程，其中managers子模块还支持把多进程分布到多台机器上。一个服务进程可以作为调度者，将任务分布到其他多个进程中，依靠网络通信。由于managers模块封装很好，不必了解网络通信的细节，就可以很容易地编写分布式多进程程序。\r\n",
    "\r\n",
    "举个例子：如果我们已经有一个通过Queue通信的多进程程序在同一台机器上运行，现在，由于处理任务的进程任务繁重，希望把发送任务的进程和处理任务的进程分布到两台机器上。怎么用分布式进程实现？\r\n",
    "\r\n",
    "原有的Queue可以继续使用，但是，通过managers模块把Queue通过网络暴露出去，就可以让其他机器的进程访问Queue了。\r\n",
    "\r\n",
    "我们先看服务进程，服务进程负责启动Queue，把Queue注册到网络上，然后往Queue里面写入任务："
   ]
  },
  {
   "cell_type": "code",
   "execution_count": 1,
   "metadata": {},
   "outputs": [
    {
     "name": "stdout",
     "output_type": "stream",
     "text": [
      "Manager= <__main__.QueruManager object at 0x000001F2392268E0>\n"
     ]
    }
   ],
   "source": [
    "import random\r\n",
    "import time\r\n",
    "import queue\r\n",
    "from multiprocessing.managers import BaseManager\r\n",
    "\r\n",
    "# 发送任务队列\r\n",
    "def task_queue():\r\n",
    "    task_queue = queue.Queue()\r\n",
    "    return task_queue\r\n",
    "# 接收结果队列\r\n",
    "def result_queue():\r\n",
    "    result_queue = queue.Queue()\r\n",
    "    return result_queue\r\n",
    "\r\n",
    "# 从BaseManager继承的QueueManager\r\n",
    "class QueruManager(BaseManager):\r\n",
    "    pass\r\n",
    "\r\n",
    "# 把两个队列都注册到网络上，callable关联了Queue对象\r\n",
    "QueruManager.register('get_task_queue', callable=task_queue)\r\n",
    "QueruManager.register('get_result_queue', callable=result_queue)\r\n",
    "# 绑定端口 5000 ，设置验证码 'abc'\r\n",
    "manager = QueruManager(address=('', 8888), authkey=b'abc')\r\n",
    "print('Manager=',manager)\r\n",
    "# 启动Queue\r\n",
    "manager.start()\r\n",
    "# 获取通过网络访问的Queue对象\r\n",
    "task = manager.get_task_queue()\r\n",
    "result = manager.get_result_queue()\r\n",
    "print('Task=',task)\r\n",
    "print('Result=',result)\r\n",
    "# 添加任务\r\n",
    "for i in range(10):\r\n",
    "    n = random.randint(1, 500)\r\n",
    "    print('Put task %d' %n)\r\n",
    "    task.put(n)\r\n",
    "\r\n",
    "print('Get results...')\r\n",
    "\r\n",
    "# 从接收队列获取结果\r\n",
    "for i in range(10):\r\n",
    "    r = result.get(timeout=10)\r\n",
    "    print('Get result %d' %r)\r\n",
    "\r\n",
    "# 关闭管理器\r\n",
    "manager.shutdown()\r\n",
    "print('Master exit.')\r\n",
    "\r\n",
    "\r\n"
   ]
  },
  {
   "cell_type": "markdown",
   "metadata": {},
   "source": [
    "请注意，当我们在一台机器上写多进程程序时，创建的Queue可以直接拿来用，但是，在分布式多进程环境下，添加任务到Queue不可以直接对原始的task_queue进行操作，那样就绕过了QueueManager的封装，必须通过manager.get_task_queue()获得的Queue接口添加。\r\n",
    "\r\n",
    "然后，在另一台机器上启动任务进程（本机上启动也可以）："
   ]
  },
  {
   "cell_type": "code",
   "execution_count": 1,
   "metadata": {},
   "outputs": [
    {
     "name": "stdout",
     "output_type": "stream",
     "text": [
      "Connect to server 127.0.0.1...\n"
     ]
    },
    {
     "ename": "ConnectionRefusedError",
     "evalue": "[WinError 10061] 由于目标计算机积极拒绝，无法连接。",
     "output_type": "error",
     "traceback": [
      "\u001b[1;31m---------------------------------------------------------------------------\u001b[0m",
      "\u001b[1;31mConnectionRefusedError\u001b[0m                    Traceback (most recent call last)",
      "\u001b[1;32m~\\AppData\\Local\\Temp/ipykernel_20700/1853070318.py\u001b[0m in \u001b[0;36m<module>\u001b[1;34m\u001b[0m\n\u001b[0;32m     16\u001b[0m \u001b[0mm\u001b[0m \u001b[1;33m=\u001b[0m \u001b[0mQueueManager\u001b[0m\u001b[1;33m(\u001b[0m\u001b[0maddress\u001b[0m\u001b[1;33m=\u001b[0m\u001b[1;33m(\u001b[0m\u001b[0mserver_addr\u001b[0m\u001b[1;33m,\u001b[0m \u001b[1;36m5000\u001b[0m\u001b[1;33m)\u001b[0m\u001b[1;33m,\u001b[0m \u001b[0mauthkey\u001b[0m\u001b[1;33m=\u001b[0m\u001b[1;34mb'abc'\u001b[0m\u001b[1;33m)\u001b[0m\u001b[1;33m\u001b[0m\u001b[1;33m\u001b[0m\u001b[0m\n\u001b[0;32m     17\u001b[0m \u001b[1;31m# 从网络连接:\u001b[0m\u001b[1;33m\u001b[0m\u001b[1;33m\u001b[0m\u001b[1;33m\u001b[0m\u001b[0m\n\u001b[1;32m---> 18\u001b[1;33m \u001b[0mm\u001b[0m\u001b[1;33m.\u001b[0m\u001b[0mconnect\u001b[0m\u001b[1;33m(\u001b[0m\u001b[1;33m)\u001b[0m\u001b[1;33m\u001b[0m\u001b[1;33m\u001b[0m\u001b[0m\n\u001b[0m\u001b[0;32m     19\u001b[0m \u001b[1;31m# 获取Queue的对象:\u001b[0m\u001b[1;33m\u001b[0m\u001b[1;33m\u001b[0m\u001b[1;33m\u001b[0m\u001b[0m\n\u001b[0;32m     20\u001b[0m \u001b[0mtask\u001b[0m \u001b[1;33m=\u001b[0m \u001b[0mm\u001b[0m\u001b[1;33m.\u001b[0m\u001b[0mget_task_queue\u001b[0m\u001b[1;33m(\u001b[0m\u001b[1;33m)\u001b[0m\u001b[1;33m\u001b[0m\u001b[1;33m\u001b[0m\u001b[0m\n",
      "\u001b[1;32md:\\python\\python38\\Lib\\multiprocessing\\managers.py\u001b[0m in \u001b[0;36mconnect\u001b[1;34m(self)\u001b[0m\n\u001b[0;32m    546\u001b[0m         '''\n\u001b[0;32m    547\u001b[0m         \u001b[0mListener\u001b[0m\u001b[1;33m,\u001b[0m \u001b[0mClient\u001b[0m \u001b[1;33m=\u001b[0m \u001b[0mlistener_client\u001b[0m\u001b[1;33m[\u001b[0m\u001b[0mself\u001b[0m\u001b[1;33m.\u001b[0m\u001b[0m_serializer\u001b[0m\u001b[1;33m]\u001b[0m\u001b[1;33m\u001b[0m\u001b[1;33m\u001b[0m\u001b[0m\n\u001b[1;32m--> 548\u001b[1;33m         \u001b[0mconn\u001b[0m \u001b[1;33m=\u001b[0m \u001b[0mClient\u001b[0m\u001b[1;33m(\u001b[0m\u001b[0mself\u001b[0m\u001b[1;33m.\u001b[0m\u001b[0m_address\u001b[0m\u001b[1;33m,\u001b[0m \u001b[0mauthkey\u001b[0m\u001b[1;33m=\u001b[0m\u001b[0mself\u001b[0m\u001b[1;33m.\u001b[0m\u001b[0m_authkey\u001b[0m\u001b[1;33m)\u001b[0m\u001b[1;33m\u001b[0m\u001b[1;33m\u001b[0m\u001b[0m\n\u001b[0m\u001b[0;32m    549\u001b[0m         \u001b[0mdispatch\u001b[0m\u001b[1;33m(\u001b[0m\u001b[0mconn\u001b[0m\u001b[1;33m,\u001b[0m \u001b[1;32mNone\u001b[0m\u001b[1;33m,\u001b[0m \u001b[1;34m'dummy'\u001b[0m\u001b[1;33m)\u001b[0m\u001b[1;33m\u001b[0m\u001b[1;33m\u001b[0m\u001b[0m\n\u001b[0;32m    550\u001b[0m         \u001b[0mself\u001b[0m\u001b[1;33m.\u001b[0m\u001b[0m_state\u001b[0m\u001b[1;33m.\u001b[0m\u001b[0mvalue\u001b[0m \u001b[1;33m=\u001b[0m \u001b[0mState\u001b[0m\u001b[1;33m.\u001b[0m\u001b[0mSTARTED\u001b[0m\u001b[1;33m\u001b[0m\u001b[1;33m\u001b[0m\u001b[0m\n",
      "\u001b[1;32md:\\python\\python38\\Lib\\multiprocessing\\connection.py\u001b[0m in \u001b[0;36mClient\u001b[1;34m(address, family, authkey)\u001b[0m\n\u001b[0;32m    500\u001b[0m         \u001b[0mc\u001b[0m \u001b[1;33m=\u001b[0m \u001b[0mPipeClient\u001b[0m\u001b[1;33m(\u001b[0m\u001b[0maddress\u001b[0m\u001b[1;33m)\u001b[0m\u001b[1;33m\u001b[0m\u001b[1;33m\u001b[0m\u001b[0m\n\u001b[0;32m    501\u001b[0m     \u001b[1;32melse\u001b[0m\u001b[1;33m:\u001b[0m\u001b[1;33m\u001b[0m\u001b[1;33m\u001b[0m\u001b[0m\n\u001b[1;32m--> 502\u001b[1;33m         \u001b[0mc\u001b[0m \u001b[1;33m=\u001b[0m \u001b[0mSocketClient\u001b[0m\u001b[1;33m(\u001b[0m\u001b[0maddress\u001b[0m\u001b[1;33m)\u001b[0m\u001b[1;33m\u001b[0m\u001b[1;33m\u001b[0m\u001b[0m\n\u001b[0m\u001b[0;32m    503\u001b[0m \u001b[1;33m\u001b[0m\u001b[0m\n\u001b[0;32m    504\u001b[0m     \u001b[1;32mif\u001b[0m \u001b[0mauthkey\u001b[0m \u001b[1;32mis\u001b[0m \u001b[1;32mnot\u001b[0m \u001b[1;32mNone\u001b[0m \u001b[1;32mand\u001b[0m \u001b[1;32mnot\u001b[0m \u001b[0misinstance\u001b[0m\u001b[1;33m(\u001b[0m\u001b[0mauthkey\u001b[0m\u001b[1;33m,\u001b[0m \u001b[0mbytes\u001b[0m\u001b[1;33m)\u001b[0m\u001b[1;33m:\u001b[0m\u001b[1;33m\u001b[0m\u001b[1;33m\u001b[0m\u001b[0m\n",
      "\u001b[1;32md:\\python\\python38\\Lib\\multiprocessing\\connection.py\u001b[0m in \u001b[0;36mSocketClient\u001b[1;34m(address)\u001b[0m\n\u001b[0;32m    627\u001b[0m     \u001b[1;32mwith\u001b[0m \u001b[0msocket\u001b[0m\u001b[1;33m.\u001b[0m\u001b[0msocket\u001b[0m\u001b[1;33m(\u001b[0m \u001b[0mgetattr\u001b[0m\u001b[1;33m(\u001b[0m\u001b[0msocket\u001b[0m\u001b[1;33m,\u001b[0m \u001b[0mfamily\u001b[0m\u001b[1;33m)\u001b[0m \u001b[1;33m)\u001b[0m \u001b[1;32mas\u001b[0m \u001b[0ms\u001b[0m\u001b[1;33m:\u001b[0m\u001b[1;33m\u001b[0m\u001b[1;33m\u001b[0m\u001b[0m\n\u001b[0;32m    628\u001b[0m         \u001b[0ms\u001b[0m\u001b[1;33m.\u001b[0m\u001b[0msetblocking\u001b[0m\u001b[1;33m(\u001b[0m\u001b[1;32mTrue\u001b[0m\u001b[1;33m)\u001b[0m\u001b[1;33m\u001b[0m\u001b[1;33m\u001b[0m\u001b[0m\n\u001b[1;32m--> 629\u001b[1;33m         \u001b[0ms\u001b[0m\u001b[1;33m.\u001b[0m\u001b[0mconnect\u001b[0m\u001b[1;33m(\u001b[0m\u001b[0maddress\u001b[0m\u001b[1;33m)\u001b[0m\u001b[1;33m\u001b[0m\u001b[1;33m\u001b[0m\u001b[0m\n\u001b[0m\u001b[0;32m    630\u001b[0m         \u001b[1;32mreturn\u001b[0m \u001b[0mConnection\u001b[0m\u001b[1;33m(\u001b[0m\u001b[0ms\u001b[0m\u001b[1;33m.\u001b[0m\u001b[0mdetach\u001b[0m\u001b[1;33m(\u001b[0m\u001b[1;33m)\u001b[0m\u001b[1;33m)\u001b[0m\u001b[1;33m\u001b[0m\u001b[1;33m\u001b[0m\u001b[0m\n\u001b[0;32m    631\u001b[0m \u001b[1;33m\u001b[0m\u001b[0m\n",
      "\u001b[1;31mConnectionRefusedError\u001b[0m: [WinError 10061] 由于目标计算机积极拒绝，无法连接。"
     ]
    }
   ],
   "source": [
    "import time, sys, queue\r\n",
    "from multiprocessing.managers import BaseManager\r\n",
    "\r\n",
    "# 创建类似的QueueManager:\r\n",
    "class QueueManager(BaseManager):\r\n",
    "    pass\r\n",
    "\r\n",
    "# 由于这个QueueManager只从网络上获取Queue，所以注册时只提供名字:\r\n",
    "QueueManager.register('get_task_queue')\r\n",
    "QueueManager.register('get_result_queue')\r\n",
    "\r\n",
    "# 连接到服务器，也就是运行task_master.py的机器:\r\n",
    "server_addr = '127.0.0.1'\r\n",
    "print('Connect to server %s...' % server_addr)\r\n",
    "# 端口和验证码注意保持与task_master.py设置的完全一致:\r\n",
    "m = QueueManager(address=(server_addr, 8888), authkey=b'abc')\r\n",
    "# 从网络连接:\r\n",
    "m.connect()\r\n",
    "# 获取Queue的对象:\r\n",
    "task = m.get_task_queue()\r\n",
    "result = m.get_result_queue()\r\n",
    "# 从task队列取任务,并把结果写入result队列:\r\n",
    "for i in range(10):\r\n",
    "    try:\r\n",
    "        n = task.get(timeout=1)\r\n",
    "        print('run task %d * %d...' % (n, n))\r\n",
    "        r = '%d * %d = %d' % (n, n, n*n)\r\n",
    "        time.sleep(1)\r\n",
    "        result.put(r)\r\n",
    "    except Queue.Empty:\r\n",
    "        print('task queue is empty.')\r\n",
    "# 处理结束:\r\n",
    "print('worker exit.')"
   ]
  },
  {
   "cell_type": "markdown",
   "metadata": {},
   "source": [
    "任务进程要通过网络连接到服务进程，所以要指定服务进程的IP。\r\n",
    "\r\n",
    "现在，可以试试分布式进程的工作效果了。\r\n",
    "\r\n",
    "\r\n",
    "这个简单的Master/Worker模型有什么用？其实这就是一个简单但真正的分布式计算，把代码稍加改造，启动多个worker，就可以把任务分布到几台甚至几十台机器上，比如把计算n*n的代码换成发送邮件，就实现了邮件队列的异步发送。\r\n",
    "\r\n",
    "Queue对象存储在哪？注意到task_worker.py中根本没有创建Queue的代码，所以，Queue对象存储在task_master.py进程中：\r\n",
    "\r\n",
    "                                             │\r\n",
    "┌─────────────────────────────────────────┐     ┌──────────────────────────────────────┐\r\n",
    "│task_master.py                           │  │  │task_worker.py                        │\r\n",
    "│                                         │     │                                      │\r\n",
    "│  task = manager.get_task_queue()        │  │  │  task = manager.get_task_queue()     │\r\n",
    "│  result = manager.get_result_queue()    │     │  result = manager.get_result_queue() │\r\n",
    "│              │                          │  │  │              │                       │\r\n",
    "│              │                          │     │              │                       │\r\n",
    "│              ▼                          │  │  │              │                       │\r\n",
    "│  ┌─────────────────────────────────┐    │     │              │                       │\r\n",
    "│  │QueueManager                     │    │  │  │              │                       │\r\n",
    "│  │ ┌────────────┐ ┌──────────────┐ │    │     │              │                       │\r\n",
    "│  │ │ task_queue │ │ result_queue │ │<───┼──┼──┼──────────────┘                       │\r\n",
    "│  │ └────────────┘ └──────────────┘ │    │     │                                      │\r\n",
    "│  └─────────────────────────────────┘    │  │  │                                      │\r\n",
    "└─────────────────────────────────────────┘     └──────────────────────────────────────┘\r\n",
    "                                             │\r\n",
    "\r\n",
    "                                          Network\r\n",
    "而Queue之所以能通过网络访问，就是通过QueueManager实现的。由于QueueManager管理的不止一个Queue，所以，要给每个Queue的网络调用接口起个名字，比如get_task_queue。\r\n",
    "\r\n",
    "authkey有什么用？这是为了保证两台机器正常通信，不被其他机器恶意干扰。如果task_worker.py的authkey和task_master.py的authkey不一致，肯定连接不上。\r\n",
    "\r\n",
    "\r\n",
    "### 小结\r\n",
    "Python的分布式进程接口简单，封装良好，适合需要把繁重任务分布到多台机器的环境下。\r\n",
    "\r\n",
    "注意Queue的作用是用来传递任务和接收结果，每个任务的描述数据量要尽量小。比如发送一个处理日志文件的任务，就不要发送几百兆的日志文件本身，而是发送日志文件存放的完整路径，由Worker进程再去共享的磁盘上读取文件。"
   ]
  }
 ],
 "metadata": {
  "interpreter": {
   "hash": "4f130e8930c592659046c3ca6e7cc7e6eeed5544b3a4392bd920b723a12c5591"
  },
  "kernelspec": {
   "display_name": "Python 3 (ipykernel)",
   "language": "python",
   "name": "python3"
  },
  "language_info": {
   "codemirror_mode": {
    "name": "ipython",
    "version": 3
   },
   "file_extension": ".py",
   "mimetype": "text/x-python",
   "name": "python",
   "nbconvert_exporter": "python",
   "pygments_lexer": "ipython3",
   "version": "3.8.0"
  }
 },
 "nbformat": 4,
 "nbformat_minor": 4
}
