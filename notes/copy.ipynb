{
 "cells": [
  {
   "cell_type": "markdown",
   "source": [
    "# Python变量存储方式以及深浅拷贝\r\n",
    "\r\n",
    "## 变量存储\r\n",
    "\r\n",
    "Python是动态语言。\r\n",
    "\r\n",
    "可以把任意数据类型赋值给变量，无需提前声明变量类型，同一个变量可以反复赋值，而且可以是不同类型的变量。\r\n",
    "\r\n",
    "下面引用廖雪峰Python教程的简单例子，描述变量存储过程：  \r\n",
    "\r\n",
    "当我们写：`a = 'ABC'`时，Python解释器干了两件事情：\r\n",
    "    1. 在内存中创建了一个'ABC'的字符串；\r\n",
    "    2. 在内存中创建了一个名为a的变量，并把它指向'ABC'。\r\n",
    "\r\n",
    "下面程序："
   ],
   "metadata": {}
  },
  {
   "cell_type": "code",
   "execution_count": 1,
   "source": [
    "a = 'ABC'\r\n",
    "b = a\r\n",
    "a = 'XYZ'\r\n",
    "print(b)"
   ],
   "outputs": [
    {
     "output_type": "stream",
     "name": "stdout",
     "text": [
      "ABC\n"
     ]
    }
   ],
   "metadata": {}
  },
  {
   "cell_type": "markdown",
   "source": [
    "执行过程：\r\n",
    "\r\n",
    "执行a = 'ABC'，解释器创建了字符串'ABC'和变量a，并把a指向'ABC'：\r\n",
    "\r\n",
    "\r\n",
    "![](img/copy/0.png)\r\n",
    "\r\n",
    "执行b = a，解释器创建了变量b，并把b指向a指向的字符串'ABC'：\r\n",
    "\r\n",
    "![](img/copy/1.png)\r\n",
    "\r\n",
    "执行a = 'XYZ'，解释器创建了字符串'XYZ'，并把a的指向改为'XYZ'，但b并没有更改： \r\n",
    "\r\n",
    "![](img/copy/2.png)\r\n",
    "\r\n",
    "所以，最后打印变量b的结果自然是'ABC'了。"
   ],
   "metadata": {}
  },
  {
   "cell_type": "markdown",
   "source": [
    "## 深浅拷贝\r\n",
    "\r\n",
    "Python当中对于拷贝，按照拷贝数据类型分为两种类型。一种是数字和字符串的拷贝，另一种就是列表、元组、字典等其他数据结构类型的拷贝。\r\n",
    "\r\n",
    "当然按照深浅也分深拷贝和浅拷贝。\r\n",
    "\r\n",
    "### 一、数字和字符串拷贝\r\n",
    "\r\n",
    "#### 1、= 赋值\r\n",
    "\r\n",
    "举例：\r\n"
   ],
   "metadata": {}
  },
  {
   "cell_type": "code",
   "execution_count": 2,
   "source": [
    "a1 = 123\r\n",
    "a2 = 123\r\n",
    "print(id(a1))\r\n",
    "print(id(a2))"
   ],
   "outputs": [
    {
     "output_type": "stream",
     "name": "stdout",
     "text": [
      "140710205171168\n",
      "140710205171168\n"
     ]
    }
   ],
   "metadata": {}
  },
  {
   "cell_type": "markdown",
   "source": [
    "原因是Python有一个重用机制，对于同一个数字，Python并不会开辟一块新的内存空间，而是维护同一块内存地址，a1，a2变量指向数字123的地址。等同于a2 = a1，使用字符串赋值也是同理。\r\n",
    "\r\n",
    "结论：对于通过用 = 号赋值，数字和字符串在内存当中用的都是同一块地址。\r\n",
    "\r\n",
    "### 2、浅拷贝\r\n",
    "\r\n",
    "举例："
   ],
   "metadata": {}
  },
  {
   "cell_type": "code",
   "execution_count": 3,
   "source": [
    "import copy  # 使用浅拷贝需要导入copy模块\r\n",
    "a1 = 123\r\n",
    "a3 = copy.copy(a1)  # 使用copy模块里的copy()函数就是浅拷贝\r\n",
    "print(id(a1))\r\n",
    "print(id(a3))"
   ],
   "outputs": [
    {
     "output_type": "stream",
     "name": "stdout",
     "text": [
      "140710205171168\n",
      "140710205171168\n"
     ]
    }
   ],
   "metadata": {}
  },
  {
   "cell_type": "markdown",
   "source": [
    "发现地址还是一样。\r\n",
    "\r\n",
    "结论：对于浅拷贝，数字和字符串在内存当中用的也是同一块地址，和上面讲的原理相同。"
   ],
   "metadata": {}
  },
  {
   "cell_type": "markdown",
   "source": [
    "### 3、深拷贝\r\n",
    "\r\n",
    "举例："
   ],
   "metadata": {}
  },
  {
   "cell_type": "code",
   "execution_count": 4,
   "source": [
    "import copy\r\n",
    "a1 = 123\r\n",
    "a4 = copy.deepcopy(a1)  # 深拷贝是用copy模块里的deepcopy()函数\r\n",
    "print(id(a1))\r\n",
    "print(id(a4))"
   ],
   "outputs": [
    {
     "output_type": "stream",
     "name": "stdout",
     "text": [
      "140710205171168\n",
      "140710205171168\n"
     ]
    }
   ],
   "metadata": {}
  },
  {
   "cell_type": "markdown",
   "source": [
    "发现地址还是一样。\r\n",
    "\r\n",
    "结论：对于深拷贝，数字和字符串在内存当中用的也是同一块地址，和上面讲的原理相同。\r\n",
    "\r\n",
    "综上所述，对于数字和字符串的赋值、浅拷贝、深拷贝在内存当中用的都是同一块地址。\r\n",
    "\r\n",
    "![](img/copy/3.png)"
   ],
   "metadata": {}
  },
  {
   "cell_type": "markdown",
   "source": [
    "### 二、字典，列表，元组等数据结构类型拷贝\r\n",
    "\r\n",
    "#### 1、=赋值\r\n",
    "\r\n",
    "举例："
   ],
   "metadata": {}
  },
  {
   "cell_type": "code",
   "execution_count": 5,
   "source": [
    "dict1 = {'k1': 'wu', 'k2': 123, 'k3': {1: 'alex', 2: 678}}\r\n",
    "dict2 = dict1\r\n",
    "print(id(dict1))\r\n",
    "print(id(dict2))"
   ],
   "outputs": [
    {
     "output_type": "stream",
     "name": "stdout",
     "text": [
      "2052328224064\n",
      "2052328224064\n"
     ]
    }
   ],
   "metadata": {}
  },
  {
   "cell_type": "markdown",
   "source": [
    "dict2变量只是指向了同一份字典数据的地址，如下图所示：\r\n",
    "\r\n",
    "![](img/copy/4.png)\r\n",
    "\r\n",
    "理解了上面的图我们看一下下面的代码："
   ],
   "metadata": {}
  },
  {
   "cell_type": "code",
   "execution_count": 6,
   "source": [
    "dict1 = dict1['k3']\r\n",
    "dict2 = dict1\r\n",
    "dict2[3] = 'hiahia'\r\n",
    "print(dict1)"
   ],
   "outputs": [
    {
     "output_type": "stream",
     "name": "stdout",
     "text": [
      "{1: 'alex', 2: 678, 3: 'hiahia'}\n"
     ]
    }
   ],
   "metadata": {}
  },
  {
   "cell_type": "markdown",
   "source": [
    "我们逐步看怎么执行的：\r\n",
    "```\r\n",
    "dict1 = dict1['k3']\r\n",
    "```\r\n",
    "\r\n",
    "![](img/copy/5.png)\r\n",
    "\r\n",
    "```\r\n",
    "dict2 = dict1\r\n",
    "```\r\n",
    "\r\n",
    "![](img/copy/6.png)\r\n",
    "\r\n",
    "\r\n",
    "```\r\n",
    "dict2[3] = 'hiahia'\r\n",
    "```\r\n",
    "\r\n",
    "![](img/copy/7.png)"
   ],
   "metadata": {}
  },
  {
   "cell_type": "markdown",
   "source": [
    "#### 2. 浅拷贝\r\n",
    "\r\n",
    "举例："
   ],
   "metadata": {}
  },
  {
   "cell_type": "code",
   "execution_count": 7,
   "source": [
    "import copy\r\n",
    "dict1 = {\"k1\": \"wu\", \"k2\": 123, \"k3\": {1: 'alex', 2: 678}}\r\n",
    "dict3 = copy.copy(dict1)  # 浅拷贝\r\n",
    "print(\"第一层字典的内存地址：\")\r\n",
    "print(id(dict1))\r\n",
    "print(id(dict3))\r\n",
    "print(\"第二层嵌套的列表的内存地址：\")\r\n",
    "print(id(dict1[\"k3\"]))\r\n",
    "print(id(dict3[\"k3\"]))"
   ],
   "outputs": [
    {
     "output_type": "stream",
     "name": "stdout",
     "text": [
      "第一层字典的内存地址：\n",
      "2052330241600\n",
      "2052330293440\n",
      "第二层嵌套的列表的内存地址：\n",
      "2052330293184\n",
      "2052330293184\n"
     ]
    }
   ],
   "metadata": {}
  },
  {
   "cell_type": "markdown",
   "source": [
    "结果发现字典第一层确实被拷贝了，变成了两个，但第二层还是共用相同的数据，如下图：\r\n",
    "\r\n",
    "![](img/copy/8.png)\r\n",
    "\r\n",
    "\r\n",
    "结论：所以对于浅拷贝，字典、列表、元组等类型，它们只拷贝第一层地址。"
   ],
   "metadata": {}
  },
  {
   "cell_type": "markdown",
   "source": [
    "#### 3、深拷贝\r\n",
    "\r\n",
    "举例："
   ],
   "metadata": {}
  },
  {
   "cell_type": "code",
   "execution_count": 8,
   "source": [
    "import copy\r\n",
    "dict1 = {\"k1\": \"wu\", \"k2\": 123, \"k3\": {1: 'alex', 2: 678}}\r\n",
    "dict4 = copy.deepcopy(dict1)  # 深拷贝\r\n",
    "print(\"第一层字典的内存地址：\")\r\n",
    "print(id(dict1))\r\n",
    "print(id(dict4))\r\n",
    "print(\"第二层嵌套的列表的内存地址：\")\r\n",
    "print(id(dict1[\"k3\"]))\r\n",
    "print(id(dict4[\"k3\"]))\r\n",
    "print(\"第三层嵌套的列表的内存地址：\")\r\n",
    "print(id(dict1[\"k3\"][1]))\r\n",
    "print(id(dict4[\"k3\"][1]))"
   ],
   "outputs": [
    {
     "output_type": "stream",
     "name": "stdout",
     "text": [
      "第一层字典的内存地址：\n",
      "2052330294976\n",
      "2052330239616\n",
      "第二层嵌套的列表的内存地址：\n",
      "2052330238656\n",
      "2052330240128\n",
      "第三层嵌套的列表的内存地址：\n",
      "2052330238704\n",
      "2052330238704\n"
     ]
    }
   ],
   "metadata": {}
  },
  {
   "cell_type": "markdown",
   "source": [
    "发现一二层被拷贝了，最底层的数字和字符串数据依然共用，如下图：\r\n",
    "\r\n",
    "![](img/copy/9.png)\r\n",
    "\r\n",
    "结论：对于深拷贝，字典、列表、元组等类型，它里面嵌套多少层，就会拷贝多少层出来，但是最底层的数字和字符串地址不变。"
   ],
   "metadata": {}
  },
  {
   "cell_type": "markdown",
   "source": [
    "\r\n",
    "\r\n",
    "\r\n",
    "[参考文章1](https://www.liaoxuefeng.com/wiki/1016959663602400/1017063826246112) \r\n",
    "\r\n",
    "[参考文章2](https://blog.csdn.net/codeswarrior/article/details/107103665)"
   ],
   "metadata": {}
  }
 ],
 "metadata": {
  "orig_nbformat": 4,
  "language_info": {
   "name": "python",
   "version": "3.8.0",
   "mimetype": "text/x-python",
   "codemirror_mode": {
    "name": "ipython",
    "version": 3
   },
   "pygments_lexer": "ipython3",
   "nbconvert_exporter": "python",
   "file_extension": ".py"
  },
  "kernelspec": {
   "name": "python3",
   "display_name": "Python 3.8.0 64-bit ('python3_learning': virtualenv)"
  },
  "interpreter": {
   "hash": "4f130e8930c592659046c3ca6e7cc7e6eeed5544b3a4392bd920b723a12c5591"
  }
 },
 "nbformat": 4,
 "nbformat_minor": 2
}