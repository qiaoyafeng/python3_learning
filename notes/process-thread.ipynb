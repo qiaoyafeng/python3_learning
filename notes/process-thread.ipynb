{
 "cells": [
  {
   "cell_type": "markdown",
   "metadata": {},
   "source": [
    "# 进程和线程\r\n",
    "\r\n",
    "对于操作系统来说，一个任务就是一个进程（Process），比如打开一个浏览器就是启动一个浏览器进程，打开一个记事本就启动了一个记事本进程，打开两个记事本就启动了两个记事本进程，打开一个Word就启动了一个Word进程。\r\n",
    "\r\n",
    "有些进程还不止同时干一件事，比如Word，它可以同时进行打字、拼写检查、打印等事情。在一个进程内部，要同时干多件事，就需要同时运行多个“子任务”，我们把进程内的这些“子任务”称为线程（Thread）。\r\n",
    "\r\n",
    "由于每个进程至少要干一件事，所以，一个进程至少有一个线程。当然，像Word这种复杂的进程可以有多个线程，多个线程可以同时执行，多线程的执行方式和多进程是一样的，也是由操作系统在多个线程之间快速切换，让每个线程都短暂地交替运行，看起来就像同时执行一样。当然，真正地同时执行多线程需要多核CPU才可能实现。\r\n",
    "\r\n",
    "\r\n",
    "多任务的实现有3种方式：\r\n",
    "\r\n",
    "    - 多进程模式；\r\n",
    "    - 多线程模式；\r\n",
    "    - 多进程+多线程模式。\r\n",
    "\r\n"
   ]
  },
  {
   "cell_type": "markdown",
   "metadata": {},
   "source": [
    "## 多进程\r\n",
    "\r\n",
    "Unix/Linux操作系统提供了一个fork()系统调用，它非常特殊。普通的函数调用，调用一次，返回一次，但是fork()调用一次，返回两次，因为操作系统自动把当前进程（称为父进程）复制了一份（称为子进程），然后，分别在父进程和子进程内返回。\r\n",
    "\r\n",
    "子进程永远返回0，而父进程返回子进程的ID。这样做的理由是，一个父进程可以fork出很多子进程，所以，父进程要记下每个子进程的ID，而子进程只需要调用getppid()就可以拿到父进程的ID。\r\n",
    "\r\n",
    "Python的os模块封装了常见的系统调用，其中就包括fork，可以在Python程序中轻松创建子进程："
   ]
  },
  {
   "cell_type": "code",
   "execution_count": null,
   "metadata": {},
   "outputs": [],
   "source": [
    "import os\r\n",
    "\r\n",
    "print(\"Process %s start...\" % os.getpid)\r\n",
    "\r\n",
    "# Only work on Unix/Linux/Mac\r\n",
    "pid = os.fork()\r\n",
    "if pid == 0:\r\n",
    "    print(\"I am child process %s and my parent is %s.\" % (os.getpid(), os.getppid()))\r\n",
    "else:\r\n",
    "    print(\"I %s just created a child process %s.\" % (os.getpid, os.getppid))"
   ]
  },
  {
   "cell_type": "markdown",
   "metadata": {},
   "source": [
    "由于Windows没有fork调用，上面的代码在Windows上无法运行。而Mac系统是基于BSD（Unix的一种）内核，所以，在Mac下运行是没有问题的。\r\n",
    "有了fork调用，一个进程在接到新任务时就可以复制出一个子进程来处理新任务，常见的Apache服务器就是由父进程监听端口，每当有新的http请求时，就fork出子进程来处理新的http请求。\r\n",
    "\r\n",
    "## multiprocessing \r\n",
    "\r\n",
    "由于Python是跨平台的，自然也应该提供一个跨平台的多进程支持。multiprocessing模块就是跨平台版本的多进程模块。\r\n",
    "multiprocessing模块提供了一个Process类来代表一个进程对象，下面的例子演示了启动一个子进程并等待其结束：\r\n"
   ]
  },
  {
   "cell_type": "code",
   "execution_count": null,
   "metadata": {},
   "outputs": [],
   "source": [
    "from multiprocessing import Process\r\n",
    "\r\n",
    "import os\r\n",
    "\r\n",
    "\r\n",
    "# 子进程要执行的代码\r\n",
    "def run_proc(name):\r\n",
    "    print(\"Run child process %s(%d)\" % (name, os.getpid()))\r\n",
    "\r\n",
    "if __name__ == \"__main__\":\r\n",
    "    print(\"Parent process %s\" %(os.getpid()))\r\n",
    "    p = Process(target=run_proc, args=('Test',))\r\n",
    "    print(\"Child process will start.\")\r\n",
    "    p.start()\r\n",
    "    p.join()\r\n",
    "    print(\"Child process end.\")"
   ]
  },
  {
   "cell_type": "markdown",
   "metadata": {},
   "source": [
    "一个简单的多进程程序示例是:"
   ]
  },
  {
   "cell_type": "code",
   "execution_count": null,
   "metadata": {},
   "outputs": [],
   "source": [
    "from multiprocessing import Process\r\n",
    "\r\n",
    "def hello(name):\r\n",
    "    print(\"Hello, %s\" % name)\r\n",
    "\r\n",
    "\r\n",
    "if __name__ == \"__main__\":\r\n",
    "    p = Process(target=hello, args=('Qiao Yafeng',))\r\n",
    "    p.start()\r\n",
    "    p.join()\r\n"
   ]
  },
  {
   "cell_type": "code",
   "execution_count": null,
   "metadata": {},
   "outputs": [],
   "source": [
    "from multiprocessing import Process\r\n",
    "import os\r\n",
    "\r\n",
    "\r\n",
    "def info(title):\r\n",
    "    print(title)\r\n",
    "    print('module name:', __name__)\r\n",
    "    print('parent process:', os.getppid())\r\n",
    "    print('process id:', os.getpid())\r\n",
    "\r\n",
    "\r\n",
    "def f(name):\r\n",
    "    info('function f')\r\n",
    "    print('hello', name)\r\n",
    "\r\n",
    "\r\n",
    "if __name__ == '__main__':\r\n",
    "    info('main line')\r\n",
    "    p = Process(target=f, args=('qiao',))\r\n",
    "    p.start()\r\n",
    "    p.join()\r\n",
    "\r\n",
    "    "
   ]
  },
  {
   "cell_type": "markdown",
   "metadata": {},
   "source": [
    "创建子进程时，只需要传入一个执行函数和函数的参数，创建一个Process实例，用start()方法启动，这样创建进程比fork()还要简单。\r\n",
    "\r\n",
    "join()方法可以等待子进程结束后再继续往下运行，通常用于进程间的同步。"
   ]
  },
  {
   "cell_type": "markdown",
   "metadata": {},
   "source": [
    "multiprocessing 模块还引入了在 threading 模块中没有的API。一个主要的例子就是 Pool 对象，它提供了一种快捷的方法，赋予函数并行化处理一系列输入值的能力，可以将输入数据分配给不同进程处理（数据并行）。下面的例子演示了在模块中定义此类函数的常见做法，以便子进程可以成功导入该模块。这个数据并行的基本例子使用了 Pool 。"
   ]
  },
  {
   "cell_type": "markdown",
   "metadata": {},
   "source": [
    "## Pool\r\n",
    "如果要启动大量的子进程，可以用进程池的方式批量创建子进程："
   ]
  },
  {
   "cell_type": "code",
   "execution_count": null,
   "metadata": {},
   "outputs": [],
   "source": [
    "from multiprocessing import Pool\r\n",
    "\r\n",
    "def f(x):\r\n",
    "    return x * x\r\n",
    "\r\n",
    "if __name__ == '__main__':\r\n",
    "    with Pool(5) as p:\r\n",
    "        print(p.map(f, [1, 2, 3]))"
   ]
  },
  {
   "cell_type": "code",
   "execution_count": null,
   "metadata": {},
   "outputs": [],
   "source": [
    "from multiprocessing import Pool, cpu_count\r\n",
    "\r\n",
    "import os\r\n",
    "import random\r\n",
    "import time\r\n",
    "\r\n",
    "def long_time_task(name):\r\n",
    "    print('Run task %s (%s)' % (name, os.getpid()))\r\n",
    "    start = time.time()\r\n",
    "    time.sleep(random.random() * 3)\r\n",
    "    end = time.time()\r\n",
    "    print('Task %s runs %0.2f seconds.' % (name, (end - start)))\r\n",
    "\r\n",
    "if __name__ == '__main__':\r\n",
    "    print('CPU count is %d' % cpu_count())\r\n",
    "    print('Parent process %s.' % os.getpid())\r\n",
    "    cpus = cpu_count()\r\n",
    "    p = Pool(cpus)\r\n",
    "    for i in range(cpus + 1):\r\n",
    "        p.apply_async(long_time_task, args=(i,))\r\n",
    "    print('Waiting for all subprocesses done...')\r\n",
    "    p.close()\r\n",
    "    p.join()\r\n",
    "    print('All subprocesses done.')\r\n",
    "\r\n",
    "\r\n"
   ]
  },
  {
   "cell_type": "markdown",
   "metadata": {},
   "source": [
    "代码解读：\r\n",
    "\r\n",
    "对Pool对象调用join()方法会等待所有子进程执行完毕，调用join()之前必须先调用close()，调用close()之后就不能继续添加新的Process了。\r\n",
    "\r\n",
    "请注意输出的结果，task 0，1，2，3是立刻执行的，而task 4要等待前面某个task完成后才执行，这是因为Pool的默认大小在我的电脑上是4，因此，最多同时执行4个进程。这是Pool有意设计的限制，并不是操作系统的限制。如果改成：  p = Pool(5)\r\n",
    "\r\n",
    "就可以同时跑5个进程。\r\n",
    "\r\n",
    "由于Pool的默认大小是CPU的核数，如果你不幸拥有8核CPU，你要提交至少9个子进程才能看到上面的等待效果。"
   ]
  },
  {
   "cell_type": "markdown",
   "metadata": {},
   "source": [
    "## 子进程\r\n",
    "很多时候，子进程并不是自身，而是一个外部进程。我们创建了子进程后，还需要控制子进程的输入和输出。\r\n",
    "\r\n",
    "subprocess模块可以让我们非常方便地启动一个子进程，然后控制其输入和输出。\r\n",
    "\r\n",
    "下面的例子演示了如何在Python代码中运行命令nslookup www.python.org，这和命令行直接运行的效果是一样的："
   ]
  },
  {
   "cell_type": "code",
   "execution_count": null,
   "metadata": {},
   "outputs": [],
   "source": [
    "import subprocess\r\n",
    "\r\n",
    "print('$ nslookup www.python.org')\r\n",
    "r = subprocess.call(['nslookup', 'www.python.org'])\r\n",
    "print('Exit code:', r)"
   ]
  },
  {
   "cell_type": "markdown",
   "metadata": {},
   "source": [
    "## 进程间通信\r\n",
    "Process之间肯定是需要通信的，操作系统提供了很多机制来实现进程间的通信。Python的multiprocessing模块包装了底层的机制，提供了Queue、Pipes等多种方式来交换数据。\r\n",
    "\r\n",
    "我们以Queue为例，在父进程中创建两个子进程，一个往Queue里写数据，一个从Queue里读数据："
   ]
  },
  {
   "cell_type": "code",
   "execution_count": null,
   "metadata": {},
   "outputs": [],
   "source": [
    "from multiprocessing import Process, Queue\r\n",
    "import os, time, random\r\n",
    "\r\n",
    "# 写入数据 进程\r\n",
    "def write(q):\r\n",
    "    print('Process %s is writing...' % os.getpid())\r\n",
    "    values = ['A', 'B', 'C', 'D']\r\n",
    "    for value in values:\r\n",
    "        print('Put %s to queue...' % value)\r\n",
    "        q.put(value)\r\n",
    "        time.sleep(random.random())\r\n",
    "\r\n",
    "# 读取数据 进程\r\n",
    "def read(q):\r\n",
    "    print('Process %s is readding...' % os.getpid())\r\n",
    "    while True:\r\n",
    "        value = q.get()\r\n",
    "        print('Get %s from queue.' % value)\r\n",
    "\r\n",
    "if __name__ == '__main__':\r\n",
    "    # 父进程创建Queue传递给各个子进程\r\n",
    "    q = Queue()\r\n",
    "    pw = Process(target=write, args=(q,))\r\n",
    "    pr = Process(target=read, args=(q,))\r\n",
    "    # 启动写入的子进程\r\n",
    "    pw.start()\r\n",
    "    # 启动读取的子进程\r\n",
    "    pr.start()\r\n",
    "    # 等待写入子进程结束\r\n",
    "    pw.join()\r\n",
    "    # 读取子程序为无限循环，只能强制终止\r\n",
    "    pr.terminate()\r\n",
    "\r\n"
   ]
  },
  {
   "cell_type": "markdown",
   "metadata": {},
   "source": [
    "在Unix/Linux下，multiprocessing模块封装了fork()调用，使我们不需要关注fork()的细节。由于Windows没有fork调用，因此，multiprocessing需要“模拟”出fork的效果，父进程所有Python对象都必须通过pickle序列化再传到子进程去，所以，如果multiprocessing在Windows下调用失败了，要先考虑是不是pickle失败了。\r\n",
    "\r\n",
    "小结\r\n",
    "在Unix/Linux下，可以使用fork()调用实现多进程。\r\n",
    "\r\n",
    "要实现跨平台的多进程，可以使用multiprocessing模块。\r\n",
    "\r\n",
    "进程间通信是通过Queue、Pipes等实现的。"
   ]
  },
  {
   "cell_type": "markdown",
   "metadata": {},
   "source": [
    "## 多线程\r\n",
    "\r\n",
    "多任务可以由多进程完成，也可以由一个进程内的多线程完成。\r\n",
    "\r\n",
    "我们前面提到了进程是由若干线程组成的，一个进程至少有一个线程。\r\n",
    "\r\n",
    "由于线程是操作系统直接支持的执行单元，因此，高级语言通常都内置多线程的支持，Python也不例外，并且，Python的线程是真正的Posix Thread，而不是模拟出来的线程。\r\n",
    "\r\n",
    "Python的标准库提供了两个模块：_thread和threading，_thread是低级模块，threading是高级模块，对_thread进行了封装。绝大多数情况下，我们只需要使用threading这个高级模块。\r\n",
    "\r\n",
    "启动一个线程就是把一个函数传入并创建Thread实例，然后调用start()开始执行："
   ]
  },
  {
   "cell_type": "code",
   "execution_count": null,
   "metadata": {},
   "outputs": [],
   "source": [
    "import random, time, threading\r\n",
    "\r\n",
    "# 线程执行的函数\r\n",
    "def loop(counts):\r\n",
    "    print('Thread %s is running...' % threading.current_thread().name)\r\n",
    "    n = 0\r\n",
    "    while n < counts:\r\n",
    "        print('Thread %s ---- %s' % (threading.current_thread().name, n))\r\n",
    "        time.sleep(random.random())\r\n",
    "        n += 1\r\n",
    "    print('Thread %s is ended.' % threading.current_thread().name)\r\n",
    "\r\n",
    "print('Thread %s is running...' % threading.current_thread().name)\r\n",
    "t = threading.Thread(target=loop, name='LoopThread', args=(5,))\r\n",
    "t.start()\r\n",
    "t.join()\r\n",
    "print('Thread %s is running...' % threading.current_thread().name)"
   ]
  },
  {
   "cell_type": "markdown",
   "metadata": {},
   "source": [
    "由于任何进程默认就会启动一个线程，我们把该线程称为主线程，主线程又可以启动新的线程，Python的threading模块有个current_thread()函数，它永远返回当前线程的实例。主线程实例的名字叫MainThread，子线程的名字在创建时指定，我们用LoopThread命名子线程。名字仅仅在打印时用来显示，完全没有其他意义，如果不起名字Python就自动给线程命名为Thread-1，Thread-2……"
   ]
  },
  {
   "cell_type": "markdown",
   "metadata": {},
   "source": [
    "### Lock\r\n",
    "多线程和多进程最大的不同在于，多进程中，同一个变量，各自有一份拷贝存在于每个进程中，互不影响，而多线程中，所有变量都由所有线程共享，所以，任何一个变量都可以被任何一个线程修改，因此，线程之间共享数据最大的危险在于多个线程同时改一个变量，把内容给改乱了。\r\n",
    "\r\n",
    "来看看多个线程同时操作一个变量怎么把内容给改乱了："
   ]
  },
  {
   "cell_type": "code",
   "execution_count": null,
   "metadata": {},
   "outputs": [],
   "source": [
    "import threading, time\r\n",
    "\r\n",
    "# 银行存款\r\n",
    "balance = 0\r\n",
    "\r\n",
    "def change_it(n):\r\n",
    "    # 先存后取，最后余额应为0\r\n",
    "    global balance\r\n",
    "    balance = balance + n\r\n",
    "    balance = balance - n\r\n",
    "\r\n",
    "def run_thread(n):\r\n",
    "    for i in range(2000):\r\n",
    "        change_it(n)\r\n",
    "\r\n",
    "t1 = threading.Thread(target=run_thread, args=(30,))\r\n",
    "t2 = threading.Thread(target=run_thread, args=(50,))\r\n",
    "t1.start()\r\n",
    "t2.start()\r\n",
    "t1.join()\r\n",
    "t2.join()\r\n",
    "print('balance is %d' % balance)"
   ]
  },
  {
   "cell_type": "markdown",
   "metadata": {},
   "source": [
    "我们定义了一个共享变量balance，初始值为0，并且启动两个线程，先存后取，理论上结果应该为0，但是，由于线程的调度是由操作系统决定的，当t1、t2交替执行时，只要循环次数足够多，balance的结果就不一定是0了。\r\n",
    "\r\n",
    "原因是因为高级语言的一条语句在CPU执行时是若干条语句，即使一个简单的计算：balance = balance + n\r\n",
    "\r\n",
    "也分两步：\r\n",
    "\r\n",
    "1. 计算balance + n，存入临时变量中；\r\n",
    "2. 将临时变量的值赋给balance。\r\n",
    "\r\n",
    "\r\n",
    "也就是可以看成：\r\n",
    "\r\n",
    "x = balance + n\r\n",
    "balance = x\r\n",
    "\r\n",
    "\r\n",
    "由于x是局部变量，两个线程各自都有自己的x，当代码正常执行时："
   ]
  },
  {
   "cell_type": "code",
   "execution_count": null,
   "metadata": {},
   "outputs": [],
   "source": [
    "初始值 balance = 0\r\n",
    "\r\n",
    "t1: x1 = balance + 5 # x1 = 0 + 5 = 5\r\n",
    "t1: balance = x1     # balance = 5\r\n",
    "t1: x1 = balance - 5 # x1 = 5 - 5 = 0\r\n",
    "t1: balance = x1     # balance = 0\r\n",
    "\r\n",
    "t2: x2 = balance + 8 # x2 = 0 + 8 = 8\r\n",
    "t2: balance = x2     # balance = 8\r\n",
    "t2: x2 = balance - 8 # x2 = 8 - 8 = 0\r\n",
    "t2: balance = x2     # balance = 0\r\n",
    "    \r\n",
    "结果 balance = 0"
   ]
  },
  {
   "cell_type": "markdown",
   "metadata": {},
   "source": [
    "但是t1和t2是交替运行的，如果操作系统以下面的顺序执行t1、t2："
   ]
  },
  {
   "cell_type": "code",
   "execution_count": null,
   "metadata": {},
   "outputs": [],
   "source": [
    "初始值 balance = 0\r\n",
    "\r\n",
    "t1: x1 = balance + 5  # x1 = 0 + 5 = 5\r\n",
    "\r\n",
    "t2: x2 = balance + 8  # x2 = 0 + 8 = 8\r\n",
    "t2: balance = x2      # balance = 8\r\n",
    "\r\n",
    "t1: balance = x1      # balance = 5\r\n",
    "t1: x1 = balance - 5  # x1 = 5 - 5 = 0\r\n",
    "t1: balance = x1      # balance = 0\r\n",
    "\r\n",
    "t2: x2 = balance - 8  # x2 = 0 - 8 = -8\r\n",
    "t2: balance = x2      # balance = -8\r\n",
    "\r\n",
    "结果 balance = -8"
   ]
  },
  {
   "cell_type": "markdown",
   "metadata": {},
   "source": [
    "究其原因，是因为修改balance需要多条语句，而执行这几条语句时，线程可能中断，从而导致多个线程把同一个对象的内容改乱了。\r\n",
    "\r\n",
    "两个线程同时一存一取，就可能导致余额不对，你肯定不希望你的银行存款莫名其妙地变成了负数，所以，我们必须确保一个线程在修改balance的时候，别的线程一定不能改。\r\n",
    "\r\n",
    "如果我们要确保balance计算正确，就要给change_it()上一把锁，当某个线程开始执行change_it()时，我们说，该线程因为获得了锁，因此其他线程不能同时执行change_it()，只能等待，直到锁被释放后，获得该锁以后才能改。由于锁只有一个，无论多少线程，同一时刻最多只有一个线程持有该锁，所以，不会造成修改的冲突。创建一个锁就是通过threading.Lock()来实现："
   ]
  },
  {
   "cell_type": "code",
   "execution_count": null,
   "metadata": {},
   "outputs": [],
   "source": [
    "balance = 0\r\n",
    "lock = threading.Lock()\r\n",
    "\r\n",
    "def run_thread(n):\r\n",
    "    for i in range(2000):\r\n",
    "        # 获取锁\r\n",
    "        lock.acquire()\r\n",
    "        try:\r\n",
    "            change_it(n)\r\n",
    "        finally:\r\n",
    "            # 修改后释放锁\r\n",
    "            lock.release()\r\n"
   ]
  },
  {
   "cell_type": "markdown",
   "metadata": {},
   "source": [
    "当多个线程同时执行lock.acquire()时，只有一个线程能成功地获取锁，然后继续执行代码，其他线程就继续等待直到获得锁为止。\r\n",
    "\r\n",
    "获得锁的线程用完后一定要释放锁，否则那些苦苦等待锁的线程将永远等待下去，成为死线程。所以我们用try...finally来确保锁一定会被释放。\r\n",
    "\r\n",
    "锁的好处就是确保了某段关键代码只能由一个线程从头到尾完整地执行，坏处当然也很多，首先是阻止了多线程并发执行，包含锁的某段代码实际上只能以单线程模式执行，效率就大大地下降了。其次，由于可以存在多个锁，不同的线程持有不同的锁，并试图获取对方持有的锁时，可能会造成死锁，导致多个线程全部挂起，既不能执行，也无法结束，只能靠操作系统强制终止。"
   ]
  },
  {
   "cell_type": "markdown",
   "metadata": {},
   "source": [
    "### 多核CPU\r\n",
    "如果你不幸拥有一个多核CPU，你肯定在想，多核应该可以同时执行多个线程。\r\n",
    "\r\n",
    "如果写一个死循环的话，会出现什么情况呢？\r\n",
    "\r\n",
    "打开Mac OS X的Activity Monitor，或者Windows的Task Manager，都可以监控某个进程的CPU使用率。\r\n",
    "\r\n",
    "我们可以监控到一个死循环线程会100%占用一个CPU。\r\n",
    "\r\n",
    "如果有两个死循环线程，在多核CPU中，可以监控到会占用200%的CPU，也就是占用两个CPU核心。\r\n",
    "\r\n",
    "要想把N核CPU的核心全部跑满，就必须启动N个死循环线程。\r\n",
    "\r\n",
    "试试用Python写个死循环："
   ]
  },
  {
   "cell_type": "code",
   "execution_count": 1,
   "metadata": {},
   "outputs": [],
   "source": [
    "import multiprocessing, threading\r\n",
    "\r\n",
    "def loop():\r\n",
    "    x = 0\r\n",
    "    while True:\r\n",
    "        x = x * x\r\n",
    "\r\n",
    "for i in range(multiprocessing.cpu_count()):\r\n",
    "    t = threading.Thread(target=loop)\r\n",
    "    t.start()\r\n",
    "    t.join()"
   ]
  },
  {
   "cell_type": "markdown",
   "metadata": {},
   "source": [
    "因为Python的线程虽然是真正的线程，但解释器执行代码时，有一个GIL锁：Global Interpreter Lock，任何Python线程执行前，必须先获得GIL锁，然后，每执行100条字节码，解释器就自动释放GIL锁，让别的线程有机会执行。这个GIL全局锁实际上把所有线程的执行代码都给上了锁，所以，多线程在Python中只能交替执行，即使100个线程跑在100核CPU上，也只能用到1个核。\r\n",
    "\r\n",
    "GIL是Python解释器设计的历史遗留问题，通常我们用的解释器是官方实现的CPython，要真正利用多核，除非重写一个不带GIL的解释器。\r\n",
    "\r\n",
    "所以，在Python中，可以使用多线程，但不要指望能有效利用多核。如果一定要通过多线程利用多核，那只能通过C扩展来实现，不过这样就失去了Python简单易用的特点。\r\n",
    "\r\n",
    "不过，也不用过于担心，Python虽然不能利用多线程实现多核任务，但可以通过多进程实现多核任务。多个Python进程有各自独立的GIL锁，互不影响。\r\n",
    "\r\n",
    "### 小结\r\n",
    "多线程编程，模型复杂，容易发生冲突，必须用锁加以隔离，同时，又要小心死锁的发生。\r\n",
    "\r\n",
    "Python解释器由于设计时有GIL全局锁，导致了多线程无法利用多核。多线程的并发在Python中就是一个美丽的梦。"
   ]
  }
 ],
 "metadata": {
  "interpreter": {
   "hash": "4f130e8930c592659046c3ca6e7cc7e6eeed5544b3a4392bd920b723a12c5591"
  },
  "kernelspec": {
   "display_name": "Python 3 (ipykernel)",
   "language": "python",
   "name": "python3"
  },
  "language_info": {
   "codemirror_mode": {
    "name": "ipython",
    "version": 3
   },
   "file_extension": ".py",
   "mimetype": "text/x-python",
   "name": "python",
   "nbconvert_exporter": "python",
   "pygments_lexer": "ipython3",
   "version": "3.8.0"
  }
 },
 "nbformat": 4,
 "nbformat_minor": 4
}
